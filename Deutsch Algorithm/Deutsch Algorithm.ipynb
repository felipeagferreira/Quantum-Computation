{
 "cells": [
  {
   "cell_type": "code",
   "execution_count": 1,
   "metadata": {},
   "outputs": [],
   "source": [
    "#--------------------------------------\n",
    "# FUNCTION THAT ASSEMBLY THE DEUTSCH CIRCUIT\n",
    "# USING 1 CLASSIC REGISTRATION ON THE METER\n",
    "#--------------------------------------\n",
    "def DEUTSCH_CNOT_1():\n",
    "    from qiskit import QuantumRegister, ClassicalRegister, QuantumCircuit;\n",
    "#-----------------\n",
    "    Q  = QuantumRegister(  2, name = 'm');\n",
    "    C  = ClassicalRegister(1, name = 'c');\n",
    "    QC = QuantumCircuit(Q, C, name = \"DEUTSCH_1\");\n",
    "#-----------------\n",
    "    QC.x(Q[0]);\n",
    "    QC.barrier();\n",
    "    QC.h(Q);\n",
    "    QC.cx(Q[1], Q[0]);\n",
    "    QC.h(Q[1]);\n",
    "    QC.measure(Q[1],C[0]);\n",
    "    print(' DEUTSCH_1(): FUNCIONA');\n",
    "    return QC;\n",
    "#--------------------------------------\n",
    "# FUNCTION THAT ASSEMBLY THE DEUTSCH CIRCUIT\n",
    "# USING 2 CLASSIC REGISTRATION ON THE METER\n",
    "#--------------------------------------\n",
    "def DEUTSCH_CNOT_2():\n",
    "    from qiskit import QuantumRegister, ClassicalRegister, QuantumCircuit;\n",
    "#-----------------\n",
    "    Q  = QuantumRegister(  2, name = 'm');\n",
    "    C  = ClassicalRegister(2, name = 'c');\n",
    "    QC = QuantumCircuit(Q, C, name = \"DEUTSCH_2\");\n",
    "#-----------------\n",
    "    QC.x(Q[0]);\n",
    "    QC.barrier();\n",
    "    QC.h(Q);\n",
    "    QC.cx(Q[1], Q[0]);\n",
    "    QC.h(Q[1]);\n",
    "    QC.measure(Q,C);\n",
    "    print(' DEUTSCH_2(): FUNCIONA');\n",
    "    return QC;"
   ]
  },
  {
   "cell_type": "code",
   "execution_count": 2,
   "metadata": {},
   "outputs": [
    {
     "name": "stdout",
     "output_type": "stream",
     "text": [
      " DEUTSCH_1(): FUNCIONA\n",
      " DEUTSCH_2(): FUNCIONA\n"
     ]
    }
   ],
   "source": [
    "# Designing the Circuit\n",
    "QC1 = DEUTSCH_CNOT_1();\n",
    "QC2 = DEUTSCH_CNOT_2();"
   ]
  },
  {
   "cell_type": "code",
   "execution_count": 3,
   "metadata": {},
   "outputs": [
    {
     "name": "stdout",
     "output_type": "stream",
     "text": [
      "        ┌───┐ ░ ┌───┐┌───┐        \n",
      "m_0: |0>┤ X ├─░─┤ H ├┤ X ├────────\n",
      "        └───┘ ░ ├───┤└─┬─┘┌───┐┌─┐\n",
      "m_1: |0>──────░─┤ H ├──■──┤ H ├┤M├\n",
      "              ░ └───┘     └───┘└╥┘\n",
      " c_0: 0 ════════════════════════╩═\n",
      "                                  \n"
     ]
    }
   ],
   "source": [
    "# Drawing as simple as possible:\n",
    "print(QC1)\n",
    "# print(QC2)"
   ]
  },
  {
   "cell_type": "code",
   "execution_count": 10,
   "metadata": {},
   "outputs": [
    {
     "data": {
      "image/png": "[encoded data removed]",
      "text/plain": [
       "<Figure size 722.4x258.86 with 1 Axes>"
      ]
     },
     "execution_count": 10,
     "metadata": {},
     "output_type": "execute_result"
    }
   ],
   "source": [
    "# Drawing in a cuter way:\n",
    "QC1.draw(output='mpl')\n",
    "QC2.draw(output='mpl')"
   ]
  },
  {
   "cell_type": "code",
   "execution_count": 5,
   "metadata": {},
   "outputs": [
    {
     "ename": "NameError",
     "evalue": "name 'DRAWER_CIRCUIT' is not defined",
     "output_type": "error",
     "traceback": [
      "\u001b[0;31m---------------------------------------------------------------------------\u001b[0m",
      "\u001b[0;31mNameError\u001b[0m                                 Traceback (most recent call last)",
      "\u001b[0;32m<ipython-input-5-1ea119f04b4d>\u001b[0m in \u001b[0;36m<module>\u001b[0;34m\u001b[0m\n\u001b[1;32m      1\u001b[0m \u001b[0;31m# Densenhando usando a nossa função:\u001b[0m\u001b[0;34m\u001b[0m\u001b[0;34m\u001b[0m\u001b[0;34m\u001b[0m\u001b[0m\n\u001b[0;32m----> 2\u001b[0;31m \u001b[0mDRAWER_CIRCUIT\u001b[0m\u001b[0;34m(\u001b[0m\u001b[0mQC1\u001b[0m\u001b[0;34m)\u001b[0m\u001b[0;34m\u001b[0m\u001b[0;34m\u001b[0m\u001b[0m\n\u001b[0m\u001b[1;32m      3\u001b[0m \u001b[0mDRAWER_CIRCUIT\u001b[0m\u001b[0;34m(\u001b[0m\u001b[0mQC2\u001b[0m\u001b[0;34m)\u001b[0m\u001b[0;34m\u001b[0m\u001b[0;34m\u001b[0m\u001b[0m\n",
      "\u001b[0;31mNameError\u001b[0m: name 'DRAWER_CIRCUIT' is not defined"
     ]
    }
   ],
   "source": [
    "# Drawing using our function:\n",
    "DRAWER_CIRCUIT(QC1)\n",
    "DRAWER_CIRCUIT(QC2)"
   ]
  },
  {
   "cell_type": "markdown",
   "metadata": {},
   "source": [
    "## Function To Draw Cute Circuit"
   ]
  },
  {
   "cell_type": "code",
   "execution_count": 11,
   "metadata": {},
   "outputs": [],
   "source": [
    "def DRAWER_CIRCUIT(QC):\n",
    "    F_NAME = '\\'DRAWER_CIRCUIT()\\'';\n",
    "#-----------------------------------------------------------------------\n",
    "#   from qiskit.tools.visualization import circuit_drawer;\n",
    "#-----------------------------------------------------------------------\n",
    "    STYLE = {\n",
    "  'compress':         True,\n",
    "  'showindex':        True,\n",
    "  'usepiformat':      True,\n",
    "  'cregbundle':       True,  # If set True bundle classical registers\n",
    "  'latexdrawerstyle': False, # When set to True enable latex mode which will draw gates like the latex output modes. COLOCQUEI FALSE PORQUE TEVE PROBLEMA COM A PORTA CU3.\n",
    "#----------\n",
    "  'fontsize':         13,  # The font size to use for text. Defaults to 13\n",
    "  'subfontsize':      11,  # The font size to use for subtext. Defaults to 8\n",
    "  'dpi':              150, # The DPI to use for the output image. Defaults to 150\n",
    "  'fold':             45,  # The number of circuit elements to fold the circuit at. Defaults to 20\n",
    "  'creglinestyle':   'doublet', # The style of line to use for classical registers. Choices are 'solid', 'doublet', or any valid matplotlib linestyle kwarg value. Defaults to doublet\n",
    "#  figwidth (int):    The maximum width (in inches) for the output figure.\n",
    "#----------\n",
    "  'backgroundcolor':  'white',\n",
    "  'textcolor':        '#000000', # The color code to use for text. Defaults to '#000000'\n",
    "  'subtextcolor':     '#000000', # The color code to use for subtext. Defaults to '#000000'\n",
    "  'linecolor':        '#000000', # The color code to use for lines. Defaults to '#000000'\n",
    "  'creglinecolor':    'blue',    # The color code to use for classical register lines '#778899'\n",
    "  'gatetextcolor':    '#000000', # The color code to use for gate text '#000000'\n",
    "  'gatefacecolor':    '#ffffff', # The color code to use for gates. Defaults to '#ffffff'\n",
    "  'barrierfacecolor': '#bdbdbd', # The color code to use for barriers. Defaults to '#bdbdbd'\n",
    "  'displaytext':  { # <-- displaytext (dict): A dictionary of the text to use for each element type in the output visualization. The default values are:\n",
    "      'id': 'id', 'u0': '\\mathtt{U}_0', 'u1': '\\mathtt{U_1}', 'u2': '\\mathtt{U_2}', 'u3': '\\mathtt{U_3}', 'x': '\\mathtt{X}', \n",
    "      'y': 'Y', 'z': 'Z', 'h': '\\mathtt{H}', 's': '\\mathtt{S}', 'sdg': '\\mathtt{S}^{\\dagger}', 't': 'T',\n",
    "      'tdg': '\\mathtt{T}^{\\dagger}', 'rx': 'R_x', 'ry': 'R_y', 'rz': 'R_z', 'reset': '\\left|0rightrangle' },\n",
    "  \"displaycolor\": { # Taken from qx_color_scheme() in _circuit_visualization.py (https://github.com/Qiskit/qiskit-terra/blob/master/qiskit/tools/visualization/_circuit_visualization.py)\n",
    "            \"id\": \"#ffca64\",  \"u0\": \"#f69458\", \"u1\":  \"#f69458\", \"u2\": \"#f69458\",\n",
    "            \"u3\": \"#f69458\",  \"x\":  \"#a6ce38\", \"y\":   \"#a6ce38\", \"z\":  \"#a6ce38\",\n",
    "            \"h\": \"#00bff2\",   \"s\":  \"#00bff2\", \"sdg\": \"#00bff2\", \"t\":  \"#ff6666\",\n",
    "            \"tdg\": \"#ff6666\", \"rx\": \"#ffca64\", \"ry\":  \"#ffca64\", \"rz\": \"#ffca64\",\n",
    "            \"reset\": \"#d7ddda\", \"target\": \"#00bff2\",  \"meas\": \"#f070aa\"},\n",
    "            #\"margin\": [5, 0.0, 0.0, 0.3],\n",
    "    }\n",
    "#-----------------------------------------------------------------------\n",
    "    REVERSE_BITS  = False;\n",
    "    PLOT_BARRIERS = True;\n",
    "    SCALE = 0.6;\n",
    "#------------------------------\n",
    "#   FIG = QC.draw(output='latex', style=STYLE, reverse_bits=REVERSE_BITS, plot_barriers=PLOT_BARRIERS, scale=SCALE); # <-- USANDO LATEX\n",
    "#   FIG = QC.draw(output='text',  style=STYLE, reverse_bits=REVERSE_BITS, plot_barriers=PLOT_BARRIERS, scale=SCALE); # <-- COMO TEXTO\n",
    "    FIG = QC.draw(output='mpl',   style=STYLE, reverse_bits=REVERSE_BITS, plot_barriers=PLOT_BARRIERS, scale=SCALE); # <-- USANDO MATPLOTLIB\n",
    "#------------------------\n",
    "#   print(QC); # <-- COMO TEXTO, ASSIM FUNCIONA SEM SUAR display\n",
    "#-----------------------------------------------------------------------\n",
    "    print(' ---------- FIM DA FUNCAO %s---------- '% F_NAME);\n",
    "    display(FIG);\n",
    "    return None;\n"
   ]
  },
  {
   "cell_type": "code",
   "execution_count": 12,
   "metadata": {},
   "outputs": [
    {
     "name": "stdout",
     "output_type": "stream",
     "text": [
      " ---------- FIM DA FUNCAO 'DRAWER_CIRCUIT()'---------- \n"
     ]
    },
    {
     "data": {
      "image/png": "[encoded data removed]",
      "text/plain": [
       "<Figure size 516x170.28 with 1 Axes>"
      ]
     },
     "metadata": {},
     "output_type": "display_data"
    },
    {
     "name": "stdout",
     "output_type": "stream",
     "text": [
      " ---------- FIM DA FUNCAO 'DRAWER_CIRCUIT()'---------- \n"
     ]
    },
    {
     "data": {
      "image/png": "[encoded data removed]",
      "text/plain": [
       "<Figure size 619.2x170.28 with 1 Axes>"
      ]
     },
     "metadata": {},
     "output_type": "display_data"
    }
   ],
   "source": [
    "# Drawing using our function:\n",
    "DRAWER_CIRCUIT(QC1)\n",
    "DRAWER_CIRCUIT(QC2)"
   ]
  },
  {
   "cell_type": "markdown",
   "metadata": {},
   "source": [
    "\n",
    "## Simulating the Circuit on the Local Machine\n",
    "\n"
   ]
  },
  {
   "cell_type": "code",
   "execution_count": 6,
   "metadata": {},
   "outputs": [],
   "source": [
    "#------------------------------------------------------------------------\n",
    "# FUNCTION TO CREATE THE HISTOGRAM:\n",
    "#------------------------------------------------------------------------\n",
    "def PLOT_HISTOGRAMS( DATA, LEGEND ):\n",
    "    from qiskit.tools.visualization import plot_histogram, iplot_histogram;\n",
    "    BAR_LABELS = True; # <-- SHOW PROBABILITIES ABOVE HISTOGRAM BARS\n",
    "    HIST = plot_histogram( DATA, legend = LEGEND, bar_labels = BAR_LABELS, figsize = (15, 4) );\n",
    "    display(HIST);\n",
    "    return None;"
   ]
  },
  {
   "cell_type": "code",
   "execution_count": 7,
   "metadata": {},
   "outputs": [],
   "source": [
    "#------------------------------------------------------------------------\n",
    "# FUNCTION THAT PERFORMS THE CIRCUIT ON THE LOCAL MACHINE:\n",
    "#------------------------------------------------------------------------\n",
    "def SIMULADOR_LOCAL(QC, N_SHOTS, BACKEND_NAME):\n",
    "    from qiskit  import Aer;\n",
    "    from qiskit  import execute;\n",
    "#--------------\n",
    "    F_NAME = '\\'SIMULADOR_LOCAL()\\'';\n",
    "    BACKEND = Aer.get_backend(BACKEND_NAME);\n",
    "#-----------------------------------------------------------------------\n",
    "    EXP = execute(QC, BACKEND, shots=N_SHOTS);\n",
    "    RESULT = EXP.result();\n",
    "    print(' RESULTS:');\n",
    "#   print('   EXP.result():', RESULT); # <-- PRINTS A LOT OF THINGS\n",
    "    print('   backend_name:', RESULT.backend_name, end =' |');\n",
    "    print('   status:',       RESULT.status, end =' |');\n",
    "    print('   success:',      RESULT.success);\n",
    "#   print('   data:',         RESULT.data); <-- PRINTS A LOT OF THINGS\n",
    "    print('   get_counts():', RESULT.get_counts() ); # print(' get_data() = ',   result.get_data(qc) );\n",
    "#-----------------------------------------------------------------------\n",
    "    print(' ---------- FIM DA FUNCAO %s---------- '% F_NAME);\n",
    "    return RESULT.get_counts();"
   ]
  },
  {
   "cell_type": "code",
   "execution_count": 8,
   "metadata": {},
   "outputs": [
    {
     "name": "stdout",
     "output_type": "stream",
     "text": [
      " RESULTS:\n",
      "   backend_name: qasm_simulator |   status: COMPLETED |   success: True\n",
      "   get_counts(): {'1': 8192}\n",
      " ---------- FIM DA FUNCAO 'SIMULADOR_LOCAL()'---------- \n",
      " RESULTS:\n",
      "   backend_name: qasm_simulator |   status: COMPLETED |   success: True\n",
      "   get_counts(): {'11': 4130, '10': 4062}\n",
      " ---------- FIM DA FUNCAO 'SIMULADOR_LOCAL()'---------- \n"
     ]
    },
    {
     "data": {
      "image/png": "[encoded data removed]",
      "text/plain": [
       "<Figure size 1080x288 with 1 Axes>"
      ]
     },
     "metadata": {},
     "output_type": "display_data"
    },
    {
     "data": {
      "image/png": "[encoded data removed]",
      "text/plain": [
       "<Figure size 1080x288 with 1 Axes>"
      ]
     },
     "metadata": {},
     "output_type": "display_data"
    }
   ],
   "source": [
    "N_SHOTS = 2**(13);\n",
    "BACKEND_NAME = \"qasm_simulator\";\n",
    "\n",
    "DADOS_1 = SIMULADOR_LOCAL(QC1, N_SHOTS, BACKEND_NAME);\n",
    "DADOS_2 = SIMULADOR_LOCAL(QC2, N_SHOTS, BACKEND_NAME);\n",
    "\n",
    "PLOT_HISTOGRAMS( [DADOS_1],  [BACKEND_NAME+' QC1'] );\n",
    "PLOT_HISTOGRAMS( [DADOS_2],  [BACKEND_NAME+' QC2'] );"
   ]
  },
  {
   "cell_type": "markdown",
   "metadata": {},
   "source": [
    "## Simulating the Circuit on the Remote Machine at IBM Qiskit"
   ]
  },
  {
   "cell_type": "markdown",
   "metadata": {},
   "source": [
    "Before any simulation on IBM chips it is necessary to register."
   ]
  },
  {
   "cell_type": "code",
   "execution_count": 14,
   "metadata": {},
   "outputs": [
    {
     "name": "stdout",
     "output_type": "stream",
     "text": [
      " CHIP_REGISTER() DIZ:\n",
      " REGISTER OK\n"
     ]
    }
   ],
   "source": [
    "#------------------------------------------------------------------------\n",
    "# FUNCTION TO REGISTER WITH IBM:\n",
    "#------------------------------------------------------------------------\n",
    "def CHIP_REGISTER():\n",
    "    from qiskit import IBMQ;\n",
    "    from qiskit.tools.monitor import backend_overview;\n",
    "#-----------------------------------------------------------------------\n",
    "#   You can get the API token from https://quantumexperience.ng.bluemix.net/qx/account,\n",
    "    QX_TOKEN = \"7f34af94cd8e670eea5e2bc4e809b21bd2d9217ab1cf27b2e813a7618f7825e6701e1bb188b8e713414f9eb773a342ffe0d434d88f44579e532dc10daf3b1ddb\";\n",
    "    QX_URL   = \"https://quantumexperience.ng.bluemix.net/api\";\n",
    "#-----------------------------------------------------------------------\n",
    "    try:\n",
    "        IBMQ.enable_account( QX_TOKEN );\n",
    "#       IBMQ.save_account(QX_TOKEN); # <-- METODO NOVO https://github.com/Qiskit/qiskit-ibmq-provider\n",
    "        print(' CHIP_REGISTER() DIZ:\\n REGISTER OK');\n",
    "    except:\n",
    "        print(' CHIP_REGISTER() DIZ:\\n Something went wrong.\\n Did you enter a correct token?');\n",
    "    return None;\n",
    "#-----------------------------------------------------------------------\n",
    "CHIP_REGISTER();"
   ]
  },
  {
   "cell_type": "code",
   "execution_count": 15,
   "metadata": {},
   "outputs": [
    {
     "name": "stderr",
     "output_type": "stream",
     "text": [
      "/home/felipe/.local/lib/python3.7/site-packages/qiskit/providers/ibmq/ibmqfactory.py:547: DeprecationWarning: IBMQ.backends() is being deprecated. Please use IBMQ.get_provider() to retrieve a provider and AccountProvider.backends() to find its backends.\n",
      "  DeprecationWarning)\n"
     ]
    },
    {
     "name": "stdout",
     "output_type": "stream",
     "text": [
      "ARTIFICIAL: [<IBMQSimulator('ibmq_qasm_simulator') from IBMQ(hub='ibm-q', group='open', project='main')>]\n",
      "CHIP REAL : [<IBMQBackend('ibmqx4') from IBMQ(hub='ibm-q', group='open', project='main')>, <IBMQBackend('ibmqx2') from IBMQ(hub='ibm-q', group='open', project='main')>, <IBMQBackend('ibmq_16_melbourne') from IBMQ(hub='ibm-q', group='open', project='main')>]\n",
      "BACKEND_OVERVIEW():\n"
     ]
    },
    {
     "name": "stderr",
     "output_type": "stream",
     "text": [
      "/home/felipe/.local/lib/python3.7/site-packages/qiskit/providers/ibmq/ibmqfactory.py:547: DeprecationWarning: IBMQ.backends() is being deprecated. Please use IBMQ.get_provider() to retrieve a provider and AccountProvider.backends() to find its backends.\n",
      "  DeprecationWarning)\n",
      "/home/felipe/.local/lib/python3.7/site-packages/qiskit/providers/ibmq/ibmqfactory.py:547: DeprecationWarning: IBMQ.backends() is being deprecated. Please use IBMQ.get_provider() to retrieve a provider and AccountProvider.backends() to find its backends.\n",
      "  DeprecationWarning)\n"
     ]
    },
    {
     "name": "stdout",
     "output_type": "stream",
     "text": [
      "ibmq_16_melbourne            ibmqx2                      ibmqx4\n",
      "-----------------            ------                      ------\n",
      "Num. Qubits:  14             Num. Qubits:  5             Num. Qubits:  5\n",
      "Pending Jobs: 14             Pending Jobs: 0             Pending Jobs: 31\n",
      "Least busy:   False          Least busy:   True          Least busy:   False\n",
      "Operational:  True           Operational:  True          Operational:  True\n",
      "Avg. T1:      47.4           Avg. T1:      66.0          Avg. T1:      42.7\n",
      "Avg. T2:      61.5           Avg. T2:      49.4          Avg. T2:      16.8\n",
      "\n",
      "\n",
      "\n"
     ]
    }
   ],
   "source": [
    "# GETTING A LOOK AT THE BACKENDS:\n",
    "def CHECK_REMOTE_BACKENDS():\n",
    "    from qiskit import IBMQ;\n",
    "    from qiskit.tools.monitor import backend_overview;\n",
    "\n",
    "    print('ARTIFICIAL:', IBMQ.backends( local = False, simulator = True) );\n",
    "    print('CHIP REAL :', IBMQ.backends( local = False, simulator = False) );\n",
    "\n",
    "    print(\"BACKEND_OVERVIEW():\");\n",
    "    backend_overview();\n",
    "\n",
    "    return None;\n",
    "\n",
    "CHECK_REMOTE_BACKENDS();\n"
   ]
  },
  {
   "cell_type": "code",
   "execution_count": 16,
   "metadata": {},
   "outputs": [],
   "source": [
    "#------------------------------------------------------------------------\n",
    "# FUNCTION THAT PERFORMS THE CIRCUIT ON THE REMOTE MACHINE:\n",
    "#------------------------------------------------------------------------\n",
    "def SIMULADOR_REMOTO(QC, N_SHOTS, BACKEND_NAME):\n",
    "    from qiskit  import IBMQ;\n",
    "    from qiskit  import execute;\n",
    "#--------------\n",
    "    F_NAME = '\\'SIMULADOR_REMOTO()\\'';\n",
    "    BACKEND = IBMQ.get_backend(BACKEND_NAME);\n",
    "# NEW METHOD:\n",
    "#   PROVIDER = IBMQ.load_account();\n",
    "#   PROVIDER = IBMQ.enable_account('MY_API_TOKEN');\n",
    "#   BACKEND  = PROVIDER.get_backend(BACKEND_NAME);\n",
    "#--------------\n",
    "    STATUS  = BACKEND.status();\n",
    "    if( STATUS.operational == False ):\n",
    "        print(' FUNCAO %s DIZ:'% F_NAME );\n",
    "        print(' ESTE BACKEND NAO ESTA OPERACIONAL NO MOMENTO, VEJA:');\n",
    "        print(\"    STATUS.operational =\",  STATUS);\n",
    "        print(' ENCERRANDO'); return None;\n",
    "#-----------------------------------------------------------------------\n",
    "    EXP = execute(QC, BACKEND, shots=N_SHOTS);\n",
    "    RESULT = EXP.result();\n",
    "    print(' RESULTS:');\n",
    "#   print('   EXP.result():', RESULT); # <-- PRINTS A LOT OF THINGS\n",
    "    print('   backend_name:', RESULT.backend_name, end =' |');\n",
    "    print('   status:',       RESULT.status, end =' |');\n",
    "    print('   success:',      RESULT.success);\n",
    "#   print('   data:',         RESULT.data); #<-- PRINTS A LOT OF THINGS\n",
    "    print('   get_counts():', RESULT.get_counts() ); # print(' get_data() = ',   result.get_data(qc) );\n",
    "#-----------------------------------------------------------------------\n",
    "    print(' ---------- FIM DA FUNCAO %s---------- '% F_NAME);\n",
    "    return RESULT.get_counts();\n"
   ]
  },
  {
   "cell_type": "code",
   "execution_count": 17,
   "metadata": {},
   "outputs": [
    {
     "name": "stderr",
     "output_type": "stream",
     "text": [
      "/home/felipe/.local/lib/python3.7/site-packages/qiskit/providers/ibmq/ibmqfactory.py:594: DeprecationWarning: IBMQ.get_backend() is being deprecated. Please use IBMQ.get_provider() to retrieve a provider and AccountProvider.get_backend(\"name\") to retrieve a backend.\n",
      "  DeprecationWarning)\n"
     ]
    },
    {
     "name": "stdout",
     "output_type": "stream",
     "text": [
      " RESULTS:\n",
      "   backend_name: ibmq_qasm_simulator |   status: COMPLETED |   success: True\n",
      "   get_counts(): {'1': 8192}\n",
      " ---------- FIM DA FUNCAO 'SIMULADOR_REMOTO()'---------- \n"
     ]
    },
    {
     "name": "stderr",
     "output_type": "stream",
     "text": [
      "/home/felipe/.local/lib/python3.7/site-packages/qiskit/providers/ibmq/ibmqfactory.py:594: DeprecationWarning: IBMQ.get_backend() is being deprecated. Please use IBMQ.get_provider() to retrieve a provider and AccountProvider.get_backend(\"name\") to retrieve a backend.\n",
      "  DeprecationWarning)\n"
     ]
    },
    {
     "name": "stdout",
     "output_type": "stream",
     "text": [
      " RESULTS:\n",
      "   backend_name: ibmqx2 |   status: Successful completion |   success: True\n",
      "   get_counts(): {'1': 7416, '0': 776}\n",
      " ---------- FIM DA FUNCAO 'SIMULADOR_REMOTO()'---------- \n"
     ]
    },
    {
     "data": {
      "image/png": "[encoded data removed]",
      "text/plain": [
       "<Figure size 1080x288 with 1 Axes>"
      ]
     },
     "metadata": {},
     "output_type": "display_data"
    }
   ],
   "source": [
    "N_SHOTS = 2**(13);\n",
    "\n",
    "BACKEND_NAME = \"ibmq_qasm_simulator\"; DADOS_qasm   = SIMULADOR_REMOTO(QC1, N_SHOTS, BACKEND_NAME);\n",
    "BACKEND_NAME = \"ibmqx2\";              DADOS_ibmqx2 = SIMULADOR_REMOTO(QC1, N_SHOTS, BACKEND_NAME);\n",
    "\n",
    "# BACKEND_NAME = \"ibmqx4\";\n",
    "# BACKEND_NAME = \"ibmq_16_melbourne\";\n",
    "\n",
    "PLOT_HISTOGRAMS( [DADOS_qasm, DADOS_ibmqx2],  ['qasm', 'ibmqx2'] );"
   ]
  },
  {
   "cell_type": "code",
   "execution_count": null,
   "metadata": {},
   "outputs": [],
   "source": []
  },
  {
   "cell_type": "code",
   "execution_count": null,
   "metadata": {},
   "outputs": [],
   "source": []
  },
  {
   "cell_type": "code",
   "execution_count": null,
   "metadata": {},
   "outputs": [],
   "source": []
  },
  {
   "cell_type": "code",
   "execution_count": null,
   "metadata": {},
   "outputs": [],
   "source": []
  }
 ],
 "metadata": {
  "kernelspec": {
   "display_name": "Python 3",
   "language": "python",
   "name": "python3"
  },
  "language_info": {
   "codemirror_mode": {
    "name": "ipython",
    "version": 3
   },
   "file_extension": ".py",
   "mimetype": "text/x-python",
   "name": "python",
   "nbconvert_exporter": "python",
   "pygments_lexer": "ipython3",
   "version": "3.8.3"
  }
 },
 "nbformat": 4,
 "nbformat_minor": 2
}
